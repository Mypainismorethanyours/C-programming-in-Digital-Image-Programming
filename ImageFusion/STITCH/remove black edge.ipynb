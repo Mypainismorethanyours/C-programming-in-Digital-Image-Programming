{
  "nbformat": 4,
  "nbformat_minor": 0,
  "metadata": {
    "colab": {
      "name": "Untitled0.ipynb",
      "provenance": []
    },
    "kernelspec": {
      "name": "python3",
      "display_name": "Python 3"
    },
    "language_info": {
      "name": "python"
    }
  },
  "cells": [
    {
      "cell_type": "code",
      "source": [
        "\n",
        "import cv2\n",
        "import numpy as np\n",
        "def stitch(image):\n",
        "    # image stitching\n",
        "    stitcher = cv2.Stitcher_create()\n",
        "    status, stitched = stitcher.stitch(image)\n",
        " \n",
        "    # black border processing\n",
        "    if status == cv2.Stitcher_OK:\n",
        "        # contour extraction\n",
        "        stitched = cv2.copyMakeBorder(stitched, 50, 50, 50, 50, cv2.BORDER_CONSTANT, (0, 0, 0))\n",
        "        gray = cv2.cvtColor(stitched, cv2.COLOR_BGR2GRAY)\n",
        "        thresh = cv2.threshold(gray, 0, 255, cv2.THRESH_BINARY)[1]\n",
        "        cnts = cv2.findContours(thresh, cv2.RETR_EXTERNAL, cv2.CHAIN_APPROX_SIMPLE)[0]\n",
        "        cv2.imwrite('stitched_1.jpg', thresh)\n",
        "\n",
        "        # the smallest rectangle\n",
        "        mask = np.zeros(thresh.shape, dtype=\"uint8\")\n",
        "        (x, y, w, h) = cv2.boundingRect(cnts[0])\n",
        "        cv2.rectangle(mask, (x, y), (x + w, y + h), 255, -1)\n",
        "        cv2.imwrite('stitched_2.jpg', mask)\n",
        "\n",
        "        # erosion treatment until minRect pixel value is 0\n",
        "        minRect = mask.copy()\n",
        "        sub = mask.copy()\n",
        "        while cv2.countNonZero(sub) > 0:\n",
        "            minRect = cv2.erode(minRect, None)\n",
        "            sub = cv2.subtract(minRect, thresh)\n",
        "        cv2.imwrite('stitched_3.jpg', minRect)\n",
        "\n",
        "        # Extract the minRect contour and crop it\n",
        "        cnts = cv2.findContours(minRect, cv2.RETR_EXTERNAL, cv2.CHAIN_APPROX_SIMPLE)[0]\n",
        "        (x, y, w, h) = cv2.boundingRect(cnts[0])\n",
        "        stitched = stitched[y:y + h, x:x + w]\n",
        " \n",
        "        cv2.imwrite('stitched_4.jpg', stitched)\n",
        "        cv2.waitKey(0)\n",
        "        cv2.destroyAllWindows()\n",
        "    else:\n",
        "        print('Image matching feature points are insufficient')\n",
        " \n",
        " \n",
        "if __name__ == \"__main__\":\n",
        "    image1 = cv2.imread('/a.jpg')\n",
        "    image2 = cv2.imread('/b.jpg')\n",
        "    image = image1, image2\n",
        "    stitch(image)"
      ],
      "metadata": {
        "id": "JWmls36kjsAp"
      },
      "execution_count": null,
      "outputs": []
    }
  ]
}